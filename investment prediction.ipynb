{
 "cells": [
  {
   "cell_type": "code",
   "execution_count": 172,
   "metadata": {},
   "outputs": [],
   "source": [
    "#importing necessary libraries\n",
    "import numpy as np\n",
    "import pandas as pd\n",
    "import pickle\n",
    "import requests\n",
    "import json\n",
    "import logging\n"
   ]
  },
  {
   "cell_type": "code",
   "execution_count": 173,
   "metadata": {},
   "outputs": [
    {
     "name": "stdout",
     "output_type": "stream",
     "text": [
      "Connected to Astra DB: ['investment_data']\n"
     ]
    }
   ],
   "source": [
    "#acessing our data base from token and Keysapce.\n",
    "#loading Database\n",
    "from astrapy import DataAPIClient\n",
    "\n",
    "# Initialize the client\n",
    "client = DataAPIClient(\"AstraCS:DNFtgYBgkWOvLusnvtBJhClI:65cf4a05b893b58375a388761136a2f5827cb60a5288b562c3651afd098d5225\")\n",
    "\n",
    "db = client.get_database_by_api_endpoint(\n",
    "  \"https://f19f2881-aa0a-4909-be2b-fbdb67f0ae3e-us-east1.apps.astra.datastax.com\",\n",
    "    keyspace=\"keyspace\",\n",
    ")\n",
    "      \n",
    "print(f\"Connected to Astra DB: {db.list_collection_names()}\")"
   ]
  },
  {
   "cell_type": "code",
   "execution_count": 174,
   "metadata": {},
   "outputs": [
    {
     "data": {
      "text/html": [
       "<div>\n",
       "<style scoped>\n",
       "    .dataframe tbody tr th:only-of-type {\n",
       "        vertical-align: middle;\n",
       "    }\n",
       "\n",
       "    .dataframe tbody tr th {\n",
       "        vertical-align: top;\n",
       "    }\n",
       "\n",
       "    .dataframe thead th {\n",
       "        text-align: right;\n",
       "    }\n",
       "</style>\n",
       "<table border=\"1\" class=\"dataframe\">\n",
       "  <thead>\n",
       "    <tr style=\"text-align: right;\">\n",
       "      <th></th>\n",
       "      <th>Open</th>\n",
       "      <th>High</th>\n",
       "      <th>Low</th>\n",
       "      <th>Close</th>\n",
       "      <th>Adj_Close</th>\n",
       "      <th>Volume</th>\n",
       "    </tr>\n",
       "  </thead>\n",
       "  <tbody>\n",
       "    <tr>\n",
       "      <th>0</th>\n",
       "      <td>633.200012</td>\n",
       "      <td>639.419983</td>\n",
       "      <td>626.780029</td>\n",
       "      <td>627.039978</td>\n",
       "      <td>627.039978</td>\n",
       "      <td>2862500</td>\n",
       "    </tr>\n",
       "    <tr>\n",
       "      <th>1</th>\n",
       "      <td>378.269989</td>\n",
       "      <td>382.660004</td>\n",
       "      <td>356.619995</td>\n",
       "      <td>359.700012</td>\n",
       "      <td>359.700012</td>\n",
       "      <td>12684000</td>\n",
       "    </tr>\n",
       "    <tr>\n",
       "      <th>2</th>\n",
       "      <td>289.100006</td>\n",
       "      <td>298.850006</td>\n",
       "      <td>285.649994</td>\n",
       "      <td>288.850006</td>\n",
       "      <td>288.850006</td>\n",
       "      <td>11444800</td>\n",
       "    </tr>\n",
       "    <tr>\n",
       "      <th>3</th>\n",
       "      <td>273.630005</td>\n",
       "      <td>290.309998</td>\n",
       "      <td>271.220001</td>\n",
       "      <td>288.940002</td>\n",
       "      <td>288.940002</td>\n",
       "      <td>12914000</td>\n",
       "    </tr>\n",
       "    <tr>\n",
       "      <th>4</th>\n",
       "      <td>517</td>\n",
       "      <td>519.570007</td>\n",
       "      <td>509.769989</td>\n",
       "      <td>512.400024</td>\n",
       "      <td>512.400024</td>\n",
       "      <td>1673900</td>\n",
       "    </tr>\n",
       "  </tbody>\n",
       "</table>\n",
       "</div>"
      ],
      "text/plain": [
       "         Open        High         Low       Close   Adj_Close    Volume\n",
       "0  633.200012  639.419983  626.780029  627.039978  627.039978   2862500\n",
       "1  378.269989  382.660004  356.619995  359.700012  359.700012  12684000\n",
       "2  289.100006  298.850006  285.649994  288.850006  288.850006  11444800\n",
       "3  273.630005  290.309998  271.220001  288.940002  288.940002  12914000\n",
       "4         517  519.570007  509.769989  512.400024  512.400024   1673900"
      ]
     },
     "execution_count": 174,
     "metadata": {},
     "output_type": "execute_result"
    }
   ],
   "source": [
    "# Retrieve the collection (table) within the database\n",
    "collection = db[\"investment_data\"]\n",
    "\n",
    "# Query the data from the 'investment_data' table\n",
    "result = collection.find()\n",
    "\n",
    "# Convert the result to a pandas DataFrame\n",
    "df = pd.DataFrame(list(result))\n",
    "\n",
    "# Save it to a CSV file\n",
    "df.to_csv('output.csv', index=False)\n",
    "\n",
    "# Drop unnecessary columns\n",
    "df = df.drop(columns=['_id', 'Date'])\n",
    "# Display the DataFrame\n",
    "df.head()\n"
   ]
  },
  {
   "cell_type": "code",
   "execution_count": 175,
   "metadata": {},
   "outputs": [
    {
     "name": "stdout",
     "output_type": "stream",
     "text": [
      "Open         float64\n",
      "High         float64\n",
      "Low          float64\n",
      "Close        float64\n",
      "Adj_Close    float64\n",
      "Volume         int64\n",
      "dtype: object\n"
     ]
    }
   ],
   "source": [
    "# Convert columns to appropriate data types\n",
    "df['Open'] = pd.to_numeric(df['Open'], errors='coerce')\n",
    "df['High'] = pd.to_numeric(df['High'], errors='coerce')\n",
    "df['Low'] = pd.to_numeric(df['Low'], errors='coerce')\n",
    "df['Volume'] = pd.to_numeric(df['Volume'], errors='coerce')\n",
    "df['Close'] = pd.to_numeric(df['Close'], errors='coerce')\n",
    "df['Adj_Close'] = pd.to_numeric(df['Adj_Close'], errors='coerce')\n",
    "\n",
    "# Verify data types\n",
    "print(df.dtypes)\n"
   ]
  },
  {
   "cell_type": "code",
   "execution_count": 176,
   "metadata": {},
   "outputs": [],
   "source": [
    "df = df.dropna(subset=['Open', 'High', 'Low', 'Volume', 'Adj_Close'])  \n",
    "# Drop rows with NaN in any of the key columns\n"
   ]
  },
  {
   "cell_type": "code",
   "execution_count": 177,
   "metadata": {},
   "outputs": [
    {
     "data": {
      "text/plain": [
       "(1009, 6)"
      ]
     },
     "execution_count": 177,
     "metadata": {},
     "output_type": "execute_result"
    }
   ],
   "source": [
    "df.shape"
   ]
  },
  {
   "cell_type": "code",
   "execution_count": 178,
   "metadata": {},
   "outputs": [
    {
     "data": {
      "text/plain": [
       "Index(['Open', 'High', 'Low', 'Close', 'Adj_Close', 'Volume'], dtype='object')"
      ]
     },
     "execution_count": 178,
     "metadata": {},
     "output_type": "execute_result"
    }
   ],
   "source": [
    "df.columns"
   ]
  },
  {
   "cell_type": "code",
   "execution_count": 179,
   "metadata": {},
   "outputs": [
    {
     "name": "stderr",
     "output_type": "stream",
     "text": [
      "C:\\Users\\asus\\AppData\\Local\\Temp\\ipykernel_16956\\3236645071.py:5: FutureWarning: A value is trying to be set on a copy of a DataFrame or Series through chained assignment using an inplace method.\n",
      "The behavior will change in pandas 3.0. This inplace method will never work because the intermediate object on which we are setting values always behaves as a copy.\n",
      "\n",
      "For example, when doing 'df[col].method(value, inplace=True)', try using 'df.method({col: value}, inplace=True)' or df[col] = df[col].method(value) instead, to perform the operation inplace on the original object.\n",
      "\n",
      "\n",
      "  df['Open'].fillna(df['Open'].mean(), inplace=True)\n",
      "C:\\Users\\asus\\AppData\\Local\\Temp\\ipykernel_16956\\3236645071.py:6: FutureWarning: A value is trying to be set on a copy of a DataFrame or Series through chained assignment using an inplace method.\n",
      "The behavior will change in pandas 3.0. This inplace method will never work because the intermediate object on which we are setting values always behaves as a copy.\n",
      "\n",
      "For example, when doing 'df[col].method(value, inplace=True)', try using 'df.method({col: value}, inplace=True)' or df[col] = df[col].method(value) instead, to perform the operation inplace on the original object.\n",
      "\n",
      "\n",
      "  df['High'].fillna(df['High'].mean(), inplace=True)\n",
      "C:\\Users\\asus\\AppData\\Local\\Temp\\ipykernel_16956\\3236645071.py:7: FutureWarning: A value is trying to be set on a copy of a DataFrame or Series through chained assignment using an inplace method.\n",
      "The behavior will change in pandas 3.0. This inplace method will never work because the intermediate object on which we are setting values always behaves as a copy.\n",
      "\n",
      "For example, when doing 'df[col].method(value, inplace=True)', try using 'df.method({col: value}, inplace=True)' or df[col] = df[col].method(value) instead, to perform the operation inplace on the original object.\n",
      "\n",
      "\n",
      "  df['Low'].fillna(df['Low'].mean(), inplace=True)\n",
      "C:\\Users\\asus\\AppData\\Local\\Temp\\ipykernel_16956\\3236645071.py:8: FutureWarning: A value is trying to be set on a copy of a DataFrame or Series through chained assignment using an inplace method.\n",
      "The behavior will change in pandas 3.0. This inplace method will never work because the intermediate object on which we are setting values always behaves as a copy.\n",
      "\n",
      "For example, when doing 'df[col].method(value, inplace=True)', try using 'df.method({col: value}, inplace=True)' or df[col] = df[col].method(value) instead, to perform the operation inplace on the original object.\n",
      "\n",
      "\n",
      "  df['Volume'].fillna(df['Volume'].mean(), inplace=True)\n",
      "C:\\Users\\asus\\AppData\\Local\\Temp\\ipykernel_16956\\3236645071.py:9: FutureWarning: A value is trying to be set on a copy of a DataFrame or Series through chained assignment using an inplace method.\n",
      "The behavior will change in pandas 3.0. This inplace method will never work because the intermediate object on which we are setting values always behaves as a copy.\n",
      "\n",
      "For example, when doing 'df[col].method(value, inplace=True)', try using 'df.method({col: value}, inplace=True)' or df[col] = df[col].method(value) instead, to perform the operation inplace on the original object.\n",
      "\n",
      "\n",
      "  df['Adj_Close'].fillna(df['Adj_Close'].mean(), inplace=True)\n"
     ]
    }
   ],
   "source": [
    "# Drop rows with NaN values in any of the important columns\n",
    "df = df.dropna(subset=['Open', 'High', 'Low', 'Volume', 'Adj_Close'])\n",
    "\n",
    "# Or, alternatively, you can fill missing values with the mean\n",
    "df['Open'].fillna(df['Open'].mean(), inplace=True)\n",
    "df['High'].fillna(df['High'].mean(), inplace=True)\n",
    "df['Low'].fillna(df['Low'].mean(), inplace=True)\n",
    "df['Volume'].fillna(df['Volume'].mean(), inplace=True)\n",
    "df['Adj_Close'].fillna(df['Adj_Close'].mean(), inplace=True)\n"
   ]
  },
  {
   "cell_type": "code",
   "execution_count": 180,
   "metadata": {},
   "outputs": [],
   "source": [
    "x = df[['Open', 'High', 'Low', 'Volume']]\n",
    "y = df['Adj_Close']# Target variable"
   ]
  },
  {
   "cell_type": "code",
   "execution_count": 181,
   "metadata": {},
   "outputs": [
    {
     "name": "stdout",
     "output_type": "stream",
     "text": [
      "Final x shape: (1009, 4), y shape: (1009,)\n"
     ]
    }
   ],
   "source": [
    "print(f\"Final x shape: {x.shape}, y shape: {y.shape}\")\n"
   ]
  },
  {
   "cell_type": "code",
   "execution_count": 182,
   "metadata": {},
   "outputs": [
    {
     "name": "stdout",
     "output_type": "stream",
     "text": [
      "756\n",
      "253\n",
      "756\n",
      "253\n"
     ]
    }
   ],
   "source": [
    "from sklearn.model_selection import train_test_split\n",
    "x_train,x_test,y_train,y_test = train_test_split(x,y,test_size =0.25)\n",
    "print(len(x_train))\n",
    "print(len(x_test))\n",
    "print(len(y_train))\n",
    "print(len(y_test))"
   ]
  },
  {
   "cell_type": "code",
   "execution_count": 183,
   "metadata": {},
   "outputs": [
    {
     "data": {
      "text/plain": [
       "253"
      ]
     },
     "execution_count": 183,
     "metadata": {},
     "output_type": "execute_result"
    }
   ],
   "source": [
    "from sklearn.linear_model import LinearRegression\n",
    "model = LinearRegression()\n",
    "model.fit(x_train,y_train)\n",
    "y_pred = model.predict(x_test)\n",
    "len(x_test)"
   ]
  },
  {
   "cell_type": "code",
   "execution_count": null,
   "metadata": {},
   "outputs": [],
   "source": []
  },
  {
   "cell_type": "code",
   "execution_count": 184,
   "metadata": {},
   "outputs": [
    {
     "name": "stdout",
     "output_type": "stream",
     "text": [
      "R-squared Score: 0.9989992648153723\n",
      "Mean Squared Error: 11.233439554470769\n",
      "Mean Absolute Error: 2.661179134868696\n"
     ]
    }
   ],
   "source": [
    "from sklearn.metrics import *\n",
    "r2 = r2_score(y_test, y_pred)\n",
    "mse = mean_squared_error(y_test, y_pred)\n",
    "mae = mean_absolute_error(y_test, y_pred)\n",
    "\n",
    "# Display the evaluation metrics\n",
    "print(f\"R-squared Score: {r2}\")\n",
    "print(f\"Mean Squared Error: {mse}\")\n",
    "print(f\"Mean Absolute Error: {mae}\")"
   ]
  },
  {
   "cell_type": "code",
   "execution_count": 185,
   "metadata": {},
   "outputs": [],
   "source": [
    "pickle.dump(model,open('model.pkl','wb'))\n",
    "model=pickle.load(open('model.pkl','rb'))"
   ]
  },
  {
   "cell_type": "code",
   "execution_count": 186,
   "metadata": {},
   "outputs": [
    {
     "data": {
      "text/html": [
       "<div>\n",
       "<style scoped>\n",
       "    .dataframe tbody tr th:only-of-type {\n",
       "        vertical-align: middle;\n",
       "    }\n",
       "\n",
       "    .dataframe tbody tr th {\n",
       "        vertical-align: top;\n",
       "    }\n",
       "\n",
       "    .dataframe thead th {\n",
       "        text-align: right;\n",
       "    }\n",
       "</style>\n",
       "<table border=\"1\" class=\"dataframe\">\n",
       "  <thead>\n",
       "    <tr style=\"text-align: right;\">\n",
       "      <th></th>\n",
       "      <th>Actual</th>\n",
       "      <th>Predicted</th>\n",
       "    </tr>\n",
       "  </thead>\n",
       "  <tbody>\n",
       "    <tr>\n",
       "      <th>971</th>\n",
       "      <td>353.160004</td>\n",
       "      <td>356.583035</td>\n",
       "    </tr>\n",
       "    <tr>\n",
       "      <th>157</th>\n",
       "      <td>506.519989</td>\n",
       "      <td>506.360040</td>\n",
       "    </tr>\n",
       "    <tr>\n",
       "      <th>5</th>\n",
       "      <td>447.670013</td>\n",
       "      <td>447.566207</td>\n",
       "    </tr>\n",
       "    <tr>\n",
       "      <th>901</th>\n",
       "      <td>329.600006</td>\n",
       "      <td>328.916675</td>\n",
       "    </tr>\n",
       "    <tr>\n",
       "      <th>640</th>\n",
       "      <td>310.829987</td>\n",
       "      <td>309.770057</td>\n",
       "    </tr>\n",
       "  </tbody>\n",
       "</table>\n",
       "</div>"
      ],
      "text/plain": [
       "         Actual   Predicted\n",
       "971  353.160004  356.583035\n",
       "157  506.519989  506.360040\n",
       "5    447.670013  447.566207\n",
       "901  329.600006  328.916675\n",
       "640  310.829987  309.770057"
      ]
     },
     "execution_count": 186,
     "metadata": {},
     "output_type": "execute_result"
    }
   ],
   "source": [
    "# Convert the predictions to a DataFrame and save them to a CSV file\n",
    "predictions_df = pd.DataFrame({\n",
    "    'Actual': y_test,\n",
    "    'Predicted': y_pred\n",
    "})\n",
    "predictions_df.to_csv('predictions.csv', index=False)\n",
    "\n",
    "# Display the predictions\n",
    "predictions_df.head()\n"
   ]
  },
  {
   "cell_type": "code",
   "execution_count": 187,
   "metadata": {},
   "outputs": [],
   "source": [
    "# Make sure the columns in x_test are the same as in x_train\n",
    "x_test = x_test[x_train.columns]\n",
    "\n",
    "# Predict\n",
    "y_pred = model.predict(x_test)\n"
   ]
  },
  {
   "cell_type": "code",
   "execution_count": 188,
   "metadata": {},
   "outputs": [],
   "source": [
    "# If you're passing a NumPy array to the model, convert it to a DataFrame:\n",
    "x_test = pd.DataFrame(x_test, columns=x_train.columns)\n",
    "y_pred = model.predict(x_test)\n"
   ]
  }
 ],
 "metadata": {
  "kernelspec": {
   "display_name": "base",
   "language": "python",
   "name": "python3"
  },
  "language_info": {
   "codemirror_mode": {
    "name": "ipython",
    "version": 3
   },
   "file_extension": ".py",
   "mimetype": "text/x-python",
   "name": "python",
   "nbconvert_exporter": "python",
   "pygments_lexer": "ipython3",
   "version": "3.12.7"
  },
  "orig_nbformat": 4
 },
 "nbformat": 4,
 "nbformat_minor": 2
}
